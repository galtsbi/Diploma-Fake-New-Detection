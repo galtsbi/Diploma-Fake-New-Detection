{
  "cells": [
    {
      "cell_type": "markdown",
      "metadata": {
        "id": "K6PTxpVxpPeA"
      },
      "source": [
        "### ROC кривые для BERT модификаций"
      ]
    },
    {
      "cell_type": "code",
      "execution_count": 1,
      "metadata": {
        "id": "JsYZkGmN-Nes"
      },
      "outputs": [],
      "source": [
        "import tensorflow as tf\n",
        "import os\n",
        "import numpy as np\n",
        "import random\n",
        "from sklearn.metrics import roc_auc_score\n",
        "\n",
        "SEED = 42"
      ]
    },
    {
      "cell_type": "code",
      "execution_count": 2,
      "metadata": {
        "id": "Z_ioqVNq-Q9x"
      },
      "outputs": [],
      "source": [
        "def set_seeds(seed=SEED):\n",
        "    os.environ['PYTHONHASHSEED'] = str(seed)\n",
        "    random.seed(seed)\n",
        "    tf.random.set_seed(seed)\n",
        "    np.random.seed(seed)"
      ]
    },
    {
      "cell_type": "code",
      "execution_count": 3,
      "metadata": {
        "id": "d4w9SUOK-TG7"
      },
      "outputs": [],
      "source": [
        "def set_global_determinism(seed=SEED):\n",
        "    set_seeds(seed=seed)\n",
        "\n",
        "    os.environ['TF_DETERMINISTIC_OPS'] = '1'\n",
        "    \n",
        "    tf.config.threading.set_inter_op_parallelism_threads(1)\n",
        "    tf.config.threading.set_intra_op_parallelism_threads(1)\n",
        "\n",
        "# Call the above function with seed value\n",
        "set_global_determinism(seed=SEED)"
      ]
    },
    {
      "cell_type": "code",
      "execution_count": 4,
      "metadata": {
        "colab": {
          "base_uri": "https://localhost:8080/"
        },
        "id": "Lw3PdWmflJjC",
        "outputId": "bba3981c-54fc-4ab1-e6d6-fd39047936ea"
      },
      "outputs": [
        {
          "output_type": "stream",
          "name": "stdout",
          "text": [
            "Looking in indexes: https://pypi.org/simple, https://us-python.pkg.dev/colab-wheels/public/simple/\n",
            "Requirement already satisfied: transformers in /usr/local/lib/python3.10/dist-packages (4.29.2)\n",
            "Requirement already satisfied: filelock in /usr/local/lib/python3.10/dist-packages (from transformers) (3.12.0)\n",
            "Requirement already satisfied: huggingface-hub<1.0,>=0.14.1 in /usr/local/lib/python3.10/dist-packages (from transformers) (0.14.1)\n",
            "Requirement already satisfied: numpy>=1.17 in /usr/local/lib/python3.10/dist-packages (from transformers) (1.22.4)\n",
            "Requirement already satisfied: packaging>=20.0 in /usr/local/lib/python3.10/dist-packages (from transformers) (23.1)\n",
            "Requirement already satisfied: pyyaml>=5.1 in /usr/local/lib/python3.10/dist-packages (from transformers) (6.0)\n",
            "Requirement already satisfied: regex!=2019.12.17 in /usr/local/lib/python3.10/dist-packages (from transformers) (2022.10.31)\n",
            "Requirement already satisfied: requests in /usr/local/lib/python3.10/dist-packages (from transformers) (2.27.1)\n",
            "Requirement already satisfied: tokenizers!=0.11.3,<0.14,>=0.11.1 in /usr/local/lib/python3.10/dist-packages (from transformers) (0.13.3)\n",
            "Requirement already satisfied: tqdm>=4.27 in /usr/local/lib/python3.10/dist-packages (from transformers) (4.65.0)\n",
            "Requirement already satisfied: fsspec in /usr/local/lib/python3.10/dist-packages (from huggingface-hub<1.0,>=0.14.1->transformers) (2023.4.0)\n",
            "Requirement already satisfied: typing-extensions>=3.7.4.3 in /usr/local/lib/python3.10/dist-packages (from huggingface-hub<1.0,>=0.14.1->transformers) (4.5.0)\n",
            "Requirement already satisfied: urllib3<1.27,>=1.21.1 in /usr/local/lib/python3.10/dist-packages (from requests->transformers) (1.26.15)\n",
            "Requirement already satisfied: certifi>=2017.4.17 in /usr/local/lib/python3.10/dist-packages (from requests->transformers) (2022.12.7)\n",
            "Requirement already satisfied: charset-normalizer~=2.0.0 in /usr/local/lib/python3.10/dist-packages (from requests->transformers) (2.0.12)\n",
            "Requirement already satisfied: idna<4,>=2.5 in /usr/local/lib/python3.10/dist-packages (from requests->transformers) (3.4)\n"
          ]
        }
      ],
      "source": [
        "pip install transformers"
      ]
    },
    {
      "cell_type": "code",
      "execution_count": 5,
      "metadata": {
        "colab": {
          "base_uri": "https://localhost:8080/"
        },
        "id": "1i-zWf9KMIEq",
        "outputId": "c7aa0598-1f3e-4730-c307-055f7e87ce32"
      },
      "outputs": [
        {
          "output_type": "stream",
          "name": "stdout",
          "text": [
            "Looking in indexes: https://pypi.org/simple, https://us-python.pkg.dev/colab-wheels/public/simple/\n",
            "Requirement already satisfied: sentencepiece in /usr/local/lib/python3.10/dist-packages (0.1.99)\n"
          ]
        }
      ],
      "source": [
        "pip install sentencepiece"
      ]
    },
    {
      "cell_type": "code",
      "execution_count": 6,
      "metadata": {
        "id": "j2IgYHKiiT3m"
      },
      "outputs": [],
      "source": [
        "import transformers\n",
        "import sentencepiece\n",
        "import re\n",
        "import nltk\n",
        "import pandas as pd\n",
        "from tqdm import tqdm\n",
        "from tqdm import tqdm_notebook\n",
        "from sklearn.metrics import auc\n",
        "from sklearn.metrics import classification_report\n",
        "import matplotlib.pyplot as plt\n",
        "\n",
        "from transformers import BertTokenizer\n",
        "from sklearn.metrics import roc_curve, confusion_matrix,auc, accuracy_score\n",
        "from sklearn.model_selection import train_test_split\n",
        "\n",
        "from tensorflow.keras.preprocessing.sequence import pad_sequences"
      ]
    },
    {
      "cell_type": "code",
      "execution_count": 7,
      "metadata": {
        "id": "Nt_ZssnhxTkw",
        "colab": {
          "base_uri": "https://localhost:8080/"
        },
        "outputId": "469650d3-a0ec-4f83-eceb-219eb215d688"
      },
      "outputs": [
        {
          "output_type": "stream",
          "name": "stdout",
          "text": [
            "Drive already mounted at /content/drive; to attempt to forcibly remount, call drive.mount(\"/content/drive\", force_remount=True).\n"
          ]
        }
      ],
      "source": [
        "from google.colab import drive\n",
        "drive.mount('/content/drive')"
      ]
    },
    {
      "cell_type": "code",
      "execution_count": 8,
      "metadata": {
        "colab": {
          "base_uri": "https://localhost:8080/",
          "height": 206
        },
        "id": "8bEKC63xkWXD",
        "outputId": "492702cd-827e-4190-e675-e20ab0eb54bc"
      },
      "outputs": [
        {
          "output_type": "execute_result",
          "data": {
            "text/plain": [
              "                                               title  label\n",
              "0  supply demand chain executive oil falls to aro...      0\n",
              "1  london south east major averages climb off low...      0\n",
              "2  gabrielle cintorino new poll shows support for...      1\n",
              "3  artist s impression of the clinton machine rus...      1\n",
              "4  worcester telegram s p gains on global growth ...      0"
            ],
            "text/html": [
              "\n",
              "  <div id=\"df-5fce9a52-9721-4e77-a583-60104b98d020\">\n",
              "    <div class=\"colab-df-container\">\n",
              "      <div>\n",
              "<style scoped>\n",
              "    .dataframe tbody tr th:only-of-type {\n",
              "        vertical-align: middle;\n",
              "    }\n",
              "\n",
              "    .dataframe tbody tr th {\n",
              "        vertical-align: top;\n",
              "    }\n",
              "\n",
              "    .dataframe thead th {\n",
              "        text-align: right;\n",
              "    }\n",
              "</style>\n",
              "<table border=\"1\" class=\"dataframe\">\n",
              "  <thead>\n",
              "    <tr style=\"text-align: right;\">\n",
              "      <th></th>\n",
              "      <th>title</th>\n",
              "      <th>label</th>\n",
              "    </tr>\n",
              "  </thead>\n",
              "  <tbody>\n",
              "    <tr>\n",
              "      <th>0</th>\n",
              "      <td>supply demand chain executive oil falls to aro...</td>\n",
              "      <td>0</td>\n",
              "    </tr>\n",
              "    <tr>\n",
              "      <th>1</th>\n",
              "      <td>london south east major averages climb off low...</td>\n",
              "      <td>0</td>\n",
              "    </tr>\n",
              "    <tr>\n",
              "      <th>2</th>\n",
              "      <td>gabrielle cintorino new poll shows support for...</td>\n",
              "      <td>1</td>\n",
              "    </tr>\n",
              "    <tr>\n",
              "      <th>3</th>\n",
              "      <td>artist s impression of the clinton machine rus...</td>\n",
              "      <td>1</td>\n",
              "    </tr>\n",
              "    <tr>\n",
              "      <th>4</th>\n",
              "      <td>worcester telegram s p gains on global growth ...</td>\n",
              "      <td>0</td>\n",
              "    </tr>\n",
              "  </tbody>\n",
              "</table>\n",
              "</div>\n",
              "      <button class=\"colab-df-convert\" onclick=\"convertToInteractive('df-5fce9a52-9721-4e77-a583-60104b98d020')\"\n",
              "              title=\"Convert this dataframe to an interactive table.\"\n",
              "              style=\"display:none;\">\n",
              "        \n",
              "  <svg xmlns=\"http://www.w3.org/2000/svg\" height=\"24px\"viewBox=\"0 0 24 24\"\n",
              "       width=\"24px\">\n",
              "    <path d=\"M0 0h24v24H0V0z\" fill=\"none\"/>\n",
              "    <path d=\"M18.56 5.44l.94 2.06.94-2.06 2.06-.94-2.06-.94-.94-2.06-.94 2.06-2.06.94zm-11 1L8.5 8.5l.94-2.06 2.06-.94-2.06-.94L8.5 2.5l-.94 2.06-2.06.94zm10 10l.94 2.06.94-2.06 2.06-.94-2.06-.94-.94-2.06-.94 2.06-2.06.94z\"/><path d=\"M17.41 7.96l-1.37-1.37c-.4-.4-.92-.59-1.43-.59-.52 0-1.04.2-1.43.59L10.3 9.45l-7.72 7.72c-.78.78-.78 2.05 0 2.83L4 21.41c.39.39.9.59 1.41.59.51 0 1.02-.2 1.41-.59l7.78-7.78 2.81-2.81c.8-.78.8-2.07 0-2.86zM5.41 20L4 18.59l7.72-7.72 1.47 1.35L5.41 20z\"/>\n",
              "  </svg>\n",
              "      </button>\n",
              "      \n",
              "  <style>\n",
              "    .colab-df-container {\n",
              "      display:flex;\n",
              "      flex-wrap:wrap;\n",
              "      gap: 12px;\n",
              "    }\n",
              "\n",
              "    .colab-df-convert {\n",
              "      background-color: #E8F0FE;\n",
              "      border: none;\n",
              "      border-radius: 50%;\n",
              "      cursor: pointer;\n",
              "      display: none;\n",
              "      fill: #1967D2;\n",
              "      height: 32px;\n",
              "      padding: 0 0 0 0;\n",
              "      width: 32px;\n",
              "    }\n",
              "\n",
              "    .colab-df-convert:hover {\n",
              "      background-color: #E2EBFA;\n",
              "      box-shadow: 0px 1px 2px rgba(60, 64, 67, 0.3), 0px 1px 3px 1px rgba(60, 64, 67, 0.15);\n",
              "      fill: #174EA6;\n",
              "    }\n",
              "\n",
              "    [theme=dark] .colab-df-convert {\n",
              "      background-color: #3B4455;\n",
              "      fill: #D2E3FC;\n",
              "    }\n",
              "\n",
              "    [theme=dark] .colab-df-convert:hover {\n",
              "      background-color: #434B5C;\n",
              "      box-shadow: 0px 1px 3px 1px rgba(0, 0, 0, 0.15);\n",
              "      filter: drop-shadow(0px 1px 2px rgba(0, 0, 0, 0.3));\n",
              "      fill: #FFFFFF;\n",
              "    }\n",
              "  </style>\n",
              "\n",
              "      <script>\n",
              "        const buttonEl =\n",
              "          document.querySelector('#df-5fce9a52-9721-4e77-a583-60104b98d020 button.colab-df-convert');\n",
              "        buttonEl.style.display =\n",
              "          google.colab.kernel.accessAllowed ? 'block' : 'none';\n",
              "\n",
              "        async function convertToInteractive(key) {\n",
              "          const element = document.querySelector('#df-5fce9a52-9721-4e77-a583-60104b98d020');\n",
              "          const dataTable =\n",
              "            await google.colab.kernel.invokeFunction('convertToInteractive',\n",
              "                                                     [key], {});\n",
              "          if (!dataTable) return;\n",
              "\n",
              "          const docLinkHtml = 'Like what you see? Visit the ' +\n",
              "            '<a target=\"_blank\" href=https://colab.research.google.com/notebooks/data_table.ipynb>data table notebook</a>'\n",
              "            + ' to learn more about interactive tables.';\n",
              "          element.innerHTML = '';\n",
              "          dataTable['output_type'] = 'display_data';\n",
              "          await google.colab.output.renderOutput(dataTable, element);\n",
              "          const docLink = document.createElement('div');\n",
              "          docLink.innerHTML = docLinkHtml;\n",
              "          element.appendChild(docLink);\n",
              "        }\n",
              "      </script>\n",
              "    </div>\n",
              "  </div>\n",
              "  "
            ]
          },
          "metadata": {},
          "execution_count": 8
        }
      ],
      "source": [
        "news_data = pd.read_csv('/content/drive/MyDrive/Data/NewsAgreggatorKaggleFNforBERT.csv')\n",
        "news_data.head()"
      ]
    },
    {
      "cell_type": "code",
      "execution_count": 9,
      "metadata": {
        "colab": {
          "base_uri": "https://localhost:8080/"
        },
        "id": "_e4plBTykxyN",
        "outputId": "755bd0f5-5bcd-4f44-fca0-82db8e023ef4"
      },
      "outputs": [
        {
          "output_type": "stream",
          "name": "stdout",
          "text": [
            "0        supply demand chain executive oil falls to aro...\n",
            "1        london south east major averages climb off low...\n",
            "2        gabrielle cintorino new poll shows support for...\n",
            "3        artist s impression of the clinton machine rus...\n",
            "4        worcester telegram s p gains on global growth ...\n",
            "                               ...                        \n",
            "24633    qfinance com global markets world stocks coppe...\n",
            "24634    david gutierrez staff writer why hydrogen pero...\n",
            "24635    bay news spacex preps falcon rocket for pre da...\n",
            "24636    law subscription jos a bank men s wearhouse in...\n",
            "24637    hillary clinton laundered isis cash says inves...\n",
            "Name: title, Length: 24638, dtype: object\n"
          ]
        }
      ],
      "source": [
        "print(news_data['title'])"
      ]
    },
    {
      "cell_type": "code",
      "execution_count": 10,
      "metadata": {
        "colab": {
          "base_uri": "https://localhost:8080/"
        },
        "id": "fn1I-Cr1yrh3",
        "outputId": "defd1d22-a6ad-4e89-f51f-cfa504620574"
      },
      "outputs": [
        {
          "output_type": "execute_result",
          "data": {
            "text/plain": [
              "title    180\n",
              "label      0\n",
              "dtype: int64"
            ]
          },
          "metadata": {},
          "execution_count": 10
        }
      ],
      "source": [
        "news_data.isnull().sum()"
      ]
    },
    {
      "cell_type": "code",
      "execution_count": 11,
      "metadata": {
        "id": "ljUQoXoiyuIw"
      },
      "outputs": [],
      "source": [
        "news_data = news_data.dropna()"
      ]
    },
    {
      "cell_type": "code",
      "execution_count": 12,
      "metadata": {
        "colab": {
          "base_uri": "https://localhost:8080/"
        },
        "id": "0FPMKcqxywjq",
        "outputId": "b3e5eec2-b73e-46f1-d827-d5186187609a"
      },
      "outputs": [
        {
          "output_type": "execute_result",
          "data": {
            "text/plain": [
              "title    0\n",
              "label    0\n",
              "dtype: int64"
            ]
          },
          "metadata": {},
          "execution_count": 12
        }
      ],
      "source": [
        "news_data.isnull().sum()"
      ]
    },
    {
      "cell_type": "code",
      "execution_count": 13,
      "metadata": {
        "id": "pRIqK3xXk0M2"
      },
      "outputs": [],
      "source": [
        "#separating the data and label\n",
        "X = news_data['title'].values\n",
        "Y = news_data['label'].values"
      ]
    },
    {
      "cell_type": "code",
      "execution_count": 14,
      "metadata": {
        "colab": {
          "base_uri": "https://localhost:8080/"
        },
        "id": "Hk4ryasek2lF",
        "outputId": "1213ceb3-2667-452b-e839-ff2baefdc363"
      },
      "outputs": [
        {
          "output_type": "stream",
          "name": "stdout",
          "text": [
            "['supply demand chain executive oil falls to around after china japan data'\n",
            " 'london south east major averages climb off lows but remain in the red'\n",
            " 'gabrielle cintorino new poll shows support for police officers is on the rise cop haters will be furious'\n",
            " ... 'bay news spacex preps falcon rocket for pre dawn launch sunday'\n",
            " 'law subscription jos a bank men s wearhouse ink b merger deal'\n",
            " 'hillary clinton laundered isis cash says investigating u s army officer']\n"
          ]
        }
      ],
      "source": [
        "print(X)"
      ]
    },
    {
      "cell_type": "code",
      "execution_count": 15,
      "metadata": {
        "colab": {
          "base_uri": "https://localhost:8080/"
        },
        "id": "ttWcoWPHk6oc",
        "outputId": "1ca65be8-4fbc-40af-8361-c517bccef39c"
      },
      "outputs": [
        {
          "output_type": "stream",
          "name": "stdout",
          "text": [
            "[0 0 1 ... 0 0 1]\n"
          ]
        }
      ],
      "source": [
        "print(Y)"
      ]
    },
    {
      "cell_type": "code",
      "execution_count": 16,
      "metadata": {
        "id": "ZGSh42cMiUez"
      },
      "outputs": [],
      "source": [
        "EPOCHS=2\n",
        "max_seq_length = 60\n",
        "LEARNING_RATE=1e-5\n",
        "early_stopping=early_stopping = tf.keras.callbacks.EarlyStopping(\n",
        "    monitor='val_loss', \n",
        "    verbose=1,\n",
        "    patience=10,\n",
        "    mode='max',\n",
        "    restore_best_weights=True)"
      ]
    },
    {
      "cell_type": "code",
      "execution_count": 17,
      "metadata": {
        "id": "s9mTKHaJscVu"
      },
      "outputs": [],
      "source": [
        "def bert_encode(data, max_len) :\n",
        "    input_ids = [] \n",
        "    attention_masks = []\n",
        "    \n",
        "    for i in range(len(data)):\n",
        "        encoded = tokenizer.encode_plus(data[i],\n",
        "                                        add_special_tokens=True,\n",
        "                                        max_length=max_len,\n",
        "                                        pad_to_max_length=True,\n",
        "                                        return_attention_mask=True)\n",
        "        \n",
        "        input_ids.append(encoded['input_ids'])\n",
        "        attention_masks.append(encoded['attention_mask'])\n",
        "        \n",
        "    return np.array(input_ids),np.array(attention_masks)"
      ]
    },
    {
      "cell_type": "code",
      "execution_count": 18,
      "metadata": {
        "id": "rp1L_b-jv850"
      },
      "outputs": [],
      "source": [
        "tokenizer = BertTokenizer.from_pretrained('bert-base-uncased')"
      ]
    },
    {
      "cell_type": "code",
      "execution_count": 20,
      "metadata": {
        "colab": {
          "base_uri": "https://localhost:8080/"
        },
        "id": "IWxPloLXsrzu",
        "outputId": "f339847b-284f-4920-e72b-3a4e3109caee"
      },
      "outputs": [
        {
          "output_type": "stream",
          "name": "stderr",
          "text": [
            "Truncation was not explicitly activated but `max_length` is provided a specific value, please use `truncation=True` to explicitly truncate examples to max length. Defaulting to 'longest_first' truncation strategy. If you encode pairs of sequences (GLUE-style) with the tokenizer you can select this strategy more precisely by providing a specific strategy to `truncation`.\n",
            "/usr/local/lib/python3.10/dist-packages/transformers/tokenization_utils_base.py:2364: FutureWarning: The `pad_to_max_length` argument is deprecated and will be removed in a future version, use `padding=True` or `padding='longest'` to pad to the longest sequence in the batch, or use `padding='max_length'` to pad to a max length. In this case, you can give a specific length with `max_length` (e.g. `max_length=45`) or leave max_length to None to pad to the maximal input size of the model (e.g. 512 for Bert).\n",
            "  warnings.warn(\n"
          ]
        }
      ],
      "source": [
        "X_train, X_test, Y_train, Y_test = train_test_split(X, Y, test_size = 0.2, stratify=Y, random_state=2)\n",
        "\n",
        "train_input_ids, train_attention_masks = bert_encode(X_train, 60)"
      ]
    },
    {
      "cell_type": "code",
      "execution_count": 21,
      "metadata": {
        "id": "jcDzJHNAjWUv"
      },
      "outputs": [],
      "source": [
        "def roc_curve_plot(fpr,tpr,roc_auc):\n",
        "    plt.figure()\n",
        "    lw = 2\n",
        "    plt.plot(fpr, tpr, color='darkorange',\n",
        "             lw=lw, label='ROC curve (area = %0.3f)' %roc_auc)\n",
        "    plt.plot([0, 1], [0, 1], color='navy', lw=lw, linestyle='--')\n",
        "    plt.xlim([0.0, 1.0])\n",
        "    plt.ylim([0.0, 1.05])\n",
        "    plt.xlabel('False Positive Rate')\n",
        "    plt.ylabel('True Positive Rate')\n",
        "    plt.title('BERT')\n",
        "    plt.legend(loc=\"lower right\")\n",
        "    plt.show()"
      ]
    },
    {
      "cell_type": "code",
      "execution_count": 22,
      "metadata": {
        "id": "spV1u3uKyW_4"
      },
      "outputs": [],
      "source": [
        "METRICS = [\n",
        "  tf.keras.metrics.TruePositives(name='tp'),\n",
        "  tf.keras.metrics.FalsePositives(name='fp'),\n",
        "  tf.keras.metrics.TrueNegatives(name='tn'),\n",
        "  tf.keras.metrics.FalseNegatives(name='fn'), \n",
        "  tf.keras.metrics.BinaryAccuracy(name='accuracy'),\n",
        "  tf.keras.metrics.Precision(name='precision'),\n",
        "  tf.keras.metrics.Recall(name='recall'),\n",
        "  tf.keras.metrics.AUC(name='auc')]"
      ]
    },
    {
      "cell_type": "code",
      "execution_count": 23,
      "metadata": {
        "id": "fURo-vpdF984"
      },
      "outputs": [],
      "source": [
        "import keras\n",
        "from keras.models import load_model"
      ]
    },
    {
      "cell_type": "markdown",
      "source": [
        "### BERT"
      ],
      "metadata": {
        "id": "eJgVg-SUOD3z"
      }
    },
    {
      "cell_type": "markdown",
      "source": [
        "#### Fine-tuned Model"
      ],
      "metadata": {
        "id": "52vc_KqbHQIh"
      }
    },
    {
      "cell_type": "code",
      "source": [
        "from transformers import TFBertModel"
      ],
      "metadata": {
        "id": "N53HtZKiPKr8"
      },
      "execution_count": 24,
      "outputs": []
    },
    {
      "cell_type": "code",
      "execution_count": 25,
      "metadata": {
        "id": "5vo8RCduFu7e"
      },
      "outputs": [],
      "source": [
        "model = load_model('/content/drive/MyDrive/Models/FINAL (BERT, DISTILBERT)/BERT.h5', custom_objects={\"TFBertModel\": TFBertModel})"
      ]
    },
    {
      "cell_type": "code",
      "execution_count": 26,
      "metadata": {
        "colab": {
          "base_uri": "https://localhost:8080/"
        },
        "id": "RfOM0rO8o9wm",
        "outputId": "56aa60b3-80c3-495c-b002-43879e1e93c9"
      },
      "outputs": [
        {
          "output_type": "stream",
          "name": "stdout",
          "text": [
            "Model: \"model\"\n",
            "__________________________________________________________________________________________________\n",
            " Layer (type)                   Output Shape         Param #     Connected to                     \n",
            "==================================================================================================\n",
            " input_ids (InputLayer)         [(None, 60)]         0           []                               \n",
            "                                                                                                  \n",
            " attention_masks (InputLayer)   [(None, 60)]         0           []                               \n",
            "                                                                                                  \n",
            " tf_bert_model (TFBertModel)    TFBaseModelOutputWi  109482240   ['input_ids[0][0]',              \n",
            "                                thPoolingAndCrossAt               'attention_masks[0][0]']        \n",
            "                                tentions(last_hidde                                               \n",
            "                                n_state=(None, 60,                                                \n",
            "                                768),                                                             \n",
            "                                 pooler_output=(Non                                               \n",
            "                                e, 768),                                                          \n",
            "                                 past_key_values=No                                               \n",
            "                                ne, hidden_states=N                                               \n",
            "                                one, attentions=Non                                               \n",
            "                                e, cross_attentions                                               \n",
            "                                =None)                                                            \n",
            "                                                                                                  \n",
            " dense (Dense)                  (None, 32)           24608       ['tf_bert_model[0][1]']          \n",
            "                                                                                                  \n",
            " dropout_37 (Dropout)           (None, 32)           0           ['dense[0][0]']                  \n",
            "                                                                                                  \n",
            " dense_1 (Dense)                (None, 1)            33          ['dropout_37[0][0]']             \n",
            "                                                                                                  \n",
            "==================================================================================================\n",
            "Total params: 109,506,881\n",
            "Trainable params: 109,506,881\n",
            "Non-trainable params: 0\n",
            "__________________________________________________________________________________________________\n",
            "None\n"
          ]
        }
      ],
      "source": [
        "print(model.summary())"
      ]
    },
    {
      "cell_type": "code",
      "execution_count": 27,
      "metadata": {
        "id": "EVK5zm4RJnop"
      },
      "outputs": [],
      "source": [
        "test_input_ids, test_attention_masks = bert_encode(X_test, 60)"
      ]
    },
    {
      "cell_type": "code",
      "execution_count": 28,
      "metadata": {
        "colab": {
          "base_uri": "https://localhost:8080/"
        },
        "id": "7aLRd-F3Jnop",
        "outputId": "2eeba56d-cfa5-49ec-c984-2372c0ddbe92"
      },
      "outputs": [
        {
          "output_type": "stream",
          "name": "stdout",
          "text": [
            "153/153 [==============================] - 26s 134ms/step - loss: 0.0809 - tp: 2310.0000 - fp: 12.0000 - tn: 2452.0000 - fn: 118.0000 - accuracy: 0.9734 - precision: 0.9948 - recall: 0.9514 - auc: 0.9960\n"
          ]
        }
      ],
      "source": [
        "score = model.evaluate([test_input_ids, test_attention_masks], Y_test, verbose=1) "
      ]
    },
    {
      "cell_type": "code",
      "execution_count": 29,
      "metadata": {
        "colab": {
          "base_uri": "https://localhost:8080/"
        },
        "id": "ezn-jVJaJnop",
        "outputId": "f5543e13-655b-4707-932f-9b53dd84b47d"
      },
      "outputs": [
        {
          "output_type": "stream",
          "name": "stdout",
          "text": [
            "BERT accuracy: 0.9734259843826294\n"
          ]
        }
      ],
      "source": [
        "print(f'BERT accuracy: {score[5]}')"
      ]
    },
    {
      "cell_type": "code",
      "execution_count": 30,
      "metadata": {
        "colab": {
          "base_uri": "https://localhost:8080/"
        },
        "id": "QLPf4pwrJnoq",
        "outputId": "b513613e-3ba7-4b39-8d9c-21bf23308814"
      },
      "outputs": [
        {
          "output_type": "stream",
          "name": "stdout",
          "text": [
            "153/153 [==============================] - 24s 133ms/step\n"
          ]
        }
      ],
      "source": [
        "BERT_predict=model.predict([test_input_ids, test_attention_masks], verbose=1)"
      ]
    },
    {
      "cell_type": "code",
      "source": [
        "# np.save('/content/drive/MyDrive/Predict/BERT_predict.npy', BERT_predict)"
      ],
      "metadata": {
        "id": "vwRNy3O_fw96"
      },
      "execution_count": 31,
      "outputs": []
    },
    {
      "cell_type": "markdown",
      "source": [
        "**Testing**"
      ],
      "metadata": {
        "id": "lsSdx_JwaTUf"
      }
    },
    {
      "cell_type": "code",
      "execution_count": 32,
      "metadata": {
        "id": "_KdZ7Yk0Jnor"
      },
      "outputs": [],
      "source": [
        "news_test = pd.read_csv('/content/drive/MyDrive/Data/FNDatasetBERT.csv')"
      ]
    },
    {
      "cell_type": "code",
      "execution_count": 33,
      "metadata": {
        "id": "ArupoRtUJnor"
      },
      "outputs": [],
      "source": [
        "x_test = news_test['title'].values\n",
        "y_test = news_test['label'].values"
      ]
    },
    {
      "cell_type": "code",
      "execution_count": 34,
      "metadata": {
        "id": "qpn5jjlJJnor",
        "colab": {
          "base_uri": "https://localhost:8080/"
        },
        "outputId": "266b7db6-c34d-4971-88e6-78fcc4aa1e15"
      },
      "outputs": [
        {
          "output_type": "stream",
          "name": "stderr",
          "text": [
            "/usr/local/lib/python3.10/dist-packages/transformers/tokenization_utils_base.py:2364: FutureWarning: The `pad_to_max_length` argument is deprecated and will be removed in a future version, use `padding=True` or `padding='longest'` to pad to the longest sequence in the batch, or use `padding='max_length'` to pad to a max length. In this case, you can give a specific length with `max_length` (e.g. `max_length=45`) or leave max_length to None to pad to the maximal input size of the model (e.g. 512 for Bert).\n",
            "  warnings.warn(\n"
          ]
        }
      ],
      "source": [
        "test_input_ids, test_attention_masks = bert_encode(x_test, 60)"
      ]
    },
    {
      "cell_type": "code",
      "execution_count": 35,
      "metadata": {
        "colab": {
          "base_uri": "https://localhost:8080/"
        },
        "outputId": "4a950527-5ccb-46e1-e25c-e0e89bded646",
        "id": "f3-3JNGVJnor"
      },
      "outputs": [
        {
          "output_type": "stream",
          "name": "stdout",
          "text": [
            "1404/1404 [==============================] - 190s 135ms/step - loss: 0.5045 - tp: 21303.0000 - fp: 4028.0000 - tn: 17389.0000 - fn: 2178.0000 - accuracy: 0.8618 - precision: 0.8410 - recall: 0.9072 - auc: 0.9264\n"
          ]
        }
      ],
      "source": [
        "score = model.evaluate([test_input_ids, test_attention_masks], y_test, verbose=1) "
      ]
    },
    {
      "cell_type": "code",
      "execution_count": 36,
      "metadata": {
        "colab": {
          "base_uri": "https://localhost:8080/"
        },
        "outputId": "63060174-43dd-44cc-e621-de6ae60c7a11",
        "id": "-CFFNenvJnos"
      },
      "outputs": [
        {
          "output_type": "stream",
          "name": "stdout",
          "text": [
            "BERT accuracy FNDataset: 0.8617755770683289\n"
          ]
        }
      ],
      "source": [
        "print(f'BERT accuracy FNDataset: {score[5]}')"
      ]
    },
    {
      "cell_type": "code",
      "source": [
        "BERT_test_predict=model.predict([test_input_ids, test_attention_masks], verbose=1)"
      ],
      "metadata": {
        "colab": {
          "base_uri": "https://localhost:8080/"
        },
        "id": "6VTw5L66aSpQ",
        "outputId": "6a5876e2-2361-4d40-cc76-80939b24d0ad"
      },
      "execution_count": 37,
      "outputs": [
        {
          "output_type": "stream",
          "name": "stdout",
          "text": [
            "1404/1404 [==============================] - 186s 132ms/step\n"
          ]
        }
      ]
    },
    {
      "cell_type": "code",
      "source": [
        "# np.save('/content/drive/MyDrive/Predict/BERT_test_predict.npy', BERT_test_predict)"
      ],
      "metadata": {
        "id": "5Be7kZMjcpml"
      },
      "execution_count": 38,
      "outputs": []
    },
    {
      "cell_type": "markdown",
      "metadata": {
        "id": "otykAvV-myVG"
      },
      "source": [
        "#### Trained Classifier"
      ]
    },
    {
      "cell_type": "code",
      "execution_count": 39,
      "metadata": {
        "id": "8CaA0KpEHlYj"
      },
      "outputs": [],
      "source": [
        "model = load_model('/content/drive/MyDrive/Models/FINAL (BERT, DISTILBERT)/BERT_freezed.h5', custom_objects={\"TFBertModel\": TFBertModel})"
      ]
    },
    {
      "cell_type": "code",
      "source": [
        "test_input_ids, test_attention_masks = bert_encode(X_test, 60)"
      ],
      "metadata": {
        "id": "xaJcYIJY4XM_"
      },
      "execution_count": 40,
      "outputs": []
    },
    {
      "cell_type": "code",
      "execution_count": 41,
      "metadata": {
        "colab": {
          "base_uri": "https://localhost:8080/"
        },
        "id": "iuhyZPXnMWGk",
        "outputId": "eee2998b-d0c6-406f-9e76-3e127862aeae"
      },
      "outputs": [
        {
          "output_type": "stream",
          "name": "stdout",
          "text": [
            "153/153 [==============================] - 24s 136ms/step - loss: 0.0512 - tp: 2366.0000 - fp: 21.0000 - tn: 2443.0000 - fn: 62.0000 - accuracy: 0.9830 - precision: 0.9912 - recall: 0.9745 - auc: 0.9984\n"
          ]
        }
      ],
      "source": [
        "score = model.evaluate([test_input_ids, test_attention_masks], Y_test, verbose=1) "
      ]
    },
    {
      "cell_type": "code",
      "execution_count": 42,
      "metadata": {
        "colab": {
          "base_uri": "https://localhost:8080/"
        },
        "id": "5vqiMzeXMWGk",
        "outputId": "0fd24495-d706-4ea4-fd62-e0d1db3707c7"
      },
      "outputs": [
        {
          "output_type": "stream",
          "name": "stdout",
          "text": [
            "BERT accuracy: 0.9830335378646851\n"
          ]
        }
      ],
      "source": [
        "print(f'BERT accuracy: {score[5]}')"
      ]
    },
    {
      "cell_type": "code",
      "execution_count": 43,
      "metadata": {
        "colab": {
          "base_uri": "https://localhost:8080/"
        },
        "id": "5MGh7rF6MWGk",
        "outputId": "2a01303c-b9bc-40f0-b053-fd4bd3d12e08"
      },
      "outputs": [
        {
          "output_type": "stream",
          "name": "stdout",
          "text": [
            "153/153 [==============================] - 23s 134ms/step\n"
          ]
        }
      ],
      "source": [
        "BERT_freezed_predict=model.predict([test_input_ids, test_attention_masks], verbose=1)"
      ]
    },
    {
      "cell_type": "code",
      "source": [
        "# np.save('/content/drive/MyDrive/Predict/BERT_freezed_predict.npy', BERT_freezed_predict)"
      ],
      "metadata": {
        "id": "47MQzzocfm4u"
      },
      "execution_count": 44,
      "outputs": []
    },
    {
      "cell_type": "markdown",
      "source": [
        "**Testing**"
      ],
      "metadata": {
        "id": "YRsHTdmDby1a"
      }
    },
    {
      "cell_type": "code",
      "source": [
        "test_input_ids, test_attention_masks = bert_encode(x_test, 60)"
      ],
      "metadata": {
        "id": "4SgVjsUW4YM5"
      },
      "execution_count": 45,
      "outputs": []
    },
    {
      "cell_type": "code",
      "execution_count": 46,
      "metadata": {
        "colab": {
          "base_uri": "https://localhost:8080/"
        },
        "outputId": "c94b27d8-7faf-46ba-f06c-cc8151de2def",
        "id": "vTWuQfYKb0Zg"
      },
      "outputs": [
        {
          "output_type": "stream",
          "name": "stdout",
          "text": [
            "1404/1404 [==============================] - 190s 135ms/step - loss: 0.5317 - tp: 22580.0000 - fp: 5688.0000 - tn: 15729.0000 - fn: 901.0000 - accuracy: 0.8532 - precision: 0.7988 - recall: 0.9616 - auc: 0.9407\n"
          ]
        }
      ],
      "source": [
        "score = model.evaluate([test_input_ids, test_attention_masks], y_test, verbose=1) "
      ]
    },
    {
      "cell_type": "code",
      "execution_count": 47,
      "metadata": {
        "colab": {
          "base_uri": "https://localhost:8080/"
        },
        "id": "LO25YEe_b0Zg",
        "outputId": "7e26c319-20b6-4047-dcfc-45528a970131"
      },
      "outputs": [
        {
          "output_type": "stream",
          "name": "stdout",
          "text": [
            "BERT accuracy FNDataset: 0.8532451391220093\n"
          ]
        }
      ],
      "source": [
        "print(f'BERT accuracy FNDataset: {score[5]}')"
      ]
    },
    {
      "cell_type": "code",
      "source": [
        "BERT_freezed_test_predict=model.predict([test_input_ids, test_attention_masks], verbose=1)"
      ],
      "metadata": {
        "colab": {
          "base_uri": "https://localhost:8080/"
        },
        "id": "Dy8ItcO8b0Zh",
        "outputId": "cbf68adb-7dc4-4f33-8560-b5f957239dbe"
      },
      "execution_count": 48,
      "outputs": [
        {
          "output_type": "stream",
          "name": "stdout",
          "text": [
            "1404/1404 [==============================] - 186s 132ms/step\n"
          ]
        }
      ]
    },
    {
      "cell_type": "code",
      "source": [
        "# np.save('/content/drive/MyDrive/Predict/BERT_freezed_test_predict.npy', BERT_freezed_test_predict)"
      ],
      "metadata": {
        "id": "dpB2vjb_frsg"
      },
      "execution_count": 49,
      "outputs": []
    },
    {
      "cell_type": "markdown",
      "source": [
        "### DistilBERT"
      ],
      "metadata": {
        "id": "XWaG7v8eOKoG"
      }
    },
    {
      "cell_type": "markdown",
      "source": [
        "#### Fine-tuned Model"
      ],
      "metadata": {
        "id": "4VooiPwwHZjm"
      }
    },
    {
      "cell_type": "code",
      "execution_count": 50,
      "metadata": {
        "id": "vC3O7s_IKBEi"
      },
      "outputs": [],
      "source": [
        "from transformers import DistilBertTokenizer"
      ]
    },
    {
      "cell_type": "code",
      "execution_count": 51,
      "metadata": {
        "id": "UZ829t0mI_d4"
      },
      "outputs": [],
      "source": [
        "tokenizer = DistilBertTokenizer.from_pretrained('distilbert-base-uncased')"
      ]
    },
    {
      "cell_type": "code",
      "execution_count": 52,
      "metadata": {
        "id": "TQW1FzP0I_d6"
      },
      "outputs": [],
      "source": [
        "from transformers import TFDistilBertModel"
      ]
    },
    {
      "cell_type": "code",
      "execution_count": 53,
      "metadata": {
        "colab": {
          "base_uri": "https://localhost:8080/"
        },
        "id": "4eu_v-z1I_d6",
        "outputId": "e4a82973-6f90-4f6a-a5b4-f55d8c934ad5"
      },
      "outputs": [
        {
          "output_type": "stream",
          "name": "stderr",
          "text": [
            "Truncation was not explicitly activated but `max_length` is provided a specific value, please use `truncation=True` to explicitly truncate examples to max length. Defaulting to 'longest_first' truncation strategy. If you encode pairs of sequences (GLUE-style) with the tokenizer you can select this strategy more precisely by providing a specific strategy to `truncation`.\n",
            "/usr/local/lib/python3.10/dist-packages/transformers/tokenization_utils_base.py:2364: FutureWarning: The `pad_to_max_length` argument is deprecated and will be removed in a future version, use `padding=True` or `padding='longest'` to pad to the longest sequence in the batch, or use `padding='max_length'` to pad to a max length. In this case, you can give a specific length with `max_length` (e.g. `max_length=45`) or leave max_length to None to pad to the maximal input size of the model (e.g. 512 for Bert).\n",
            "  warnings.warn(\n"
          ]
        }
      ],
      "source": [
        "X_train, X_test, Y_train, Y_test = train_test_split(X, Y, test_size = 0.2, stratify=Y, random_state=2)\n",
        "\n",
        "train_input_ids, train_attention_masks = bert_encode(X_train, 60)"
      ]
    },
    {
      "cell_type": "code",
      "execution_count": 54,
      "metadata": {
        "id": "VT9PFHaqI_d7"
      },
      "outputs": [],
      "source": [
        "model = load_model('/content/drive/MyDrive/Models/FINAL (BERT, DISTILBERT)/DISTILBERT.h5', custom_objects={\"TFDistilBertModel\": TFDistilBertModel})"
      ]
    },
    {
      "cell_type": "code",
      "execution_count": 55,
      "metadata": {
        "id": "7cFfj18BI_d7"
      },
      "outputs": [],
      "source": [
        "test_input_ids, test_attention_masks = bert_encode(X_test, 60)"
      ]
    },
    {
      "cell_type": "code",
      "execution_count": 56,
      "metadata": {
        "colab": {
          "base_uri": "https://localhost:8080/"
        },
        "id": "FxOh3TBDI_d8",
        "outputId": "1bd7597a-9601-4398-f24b-9cbbc5b18107"
      },
      "outputs": [
        {
          "output_type": "stream",
          "name": "stdout",
          "text": [
            "153/153 [==============================] - 13s 68ms/step - loss: 0.0588 - tp: 2367.0000 - fp: 23.0000 - tn: 2441.0000 - fn: 61.0000 - accuracy: 0.9828 - precision: 0.9904 - recall: 0.9749 - auc: 0.9972\n"
          ]
        }
      ],
      "source": [
        "score = model.evaluate([test_input_ids, test_attention_masks], Y_test, verbose=1) "
      ]
    },
    {
      "cell_type": "code",
      "execution_count": 57,
      "metadata": {
        "colab": {
          "base_uri": "https://localhost:8080/"
        },
        "id": "pNX8OX9hI_d8",
        "outputId": "ee8e5d4b-e25d-4219-a1ef-b0d3703ed202"
      },
      "outputs": [
        {
          "output_type": "stream",
          "name": "stdout",
          "text": [
            "DistilBERT accuracy: 0.9828290939331055\n"
          ]
        }
      ],
      "source": [
        "print(f'DistilBERT accuracy: {score[5]}')"
      ]
    },
    {
      "cell_type": "code",
      "execution_count": 58,
      "metadata": {
        "colab": {
          "base_uri": "https://localhost:8080/"
        },
        "id": "8xo9X33MI_d9",
        "outputId": "c186c7ef-045e-4559-d821-67d41ae91c04"
      },
      "outputs": [
        {
          "output_type": "stream",
          "name": "stdout",
          "text": [
            "153/153 [==============================] - 12s 67ms/step\n"
          ]
        }
      ],
      "source": [
        "DistilBERT_predict=model.predict([test_input_ids, test_attention_masks], verbose=1)"
      ]
    },
    {
      "cell_type": "code",
      "source": [
        "# np.save('/content/drive/MyDrive/Predict/DistilBERT_predict.npy', DistilBERT_predict)"
      ],
      "metadata": {
        "id": "zUDNnBJRgRO3"
      },
      "execution_count": 59,
      "outputs": []
    },
    {
      "cell_type": "markdown",
      "source": [
        "**Testing**"
      ],
      "metadata": {
        "id": "HsA4YfImeR7h"
      }
    },
    {
      "cell_type": "code",
      "execution_count": 60,
      "metadata": {
        "id": "hd9MDGGueUFn"
      },
      "outputs": [],
      "source": [
        "test_input_ids, test_attention_masks = bert_encode(x_test, 60)"
      ]
    },
    {
      "cell_type": "code",
      "execution_count": 61,
      "metadata": {
        "colab": {
          "base_uri": "https://localhost:8080/"
        },
        "outputId": "6a03b5e5-87a0-4f83-aaba-0cf411ca3589",
        "id": "7h9MjEVCeUFv"
      },
      "outputs": [
        {
          "output_type": "stream",
          "name": "stdout",
          "text": [
            "1404/1404 [==============================] - 99s 70ms/step - loss: 0.5937 - tp: 22246.0000 - fp: 4873.0000 - tn: 16544.0000 - fn: 1235.0000 - accuracy: 0.8640 - precision: 0.8203 - recall: 0.9474 - auc: 0.9240\n"
          ]
        }
      ],
      "source": [
        "score = model.evaluate([test_input_ids, test_attention_masks], y_test, verbose=1) "
      ]
    },
    {
      "cell_type": "code",
      "execution_count": 62,
      "metadata": {
        "colab": {
          "base_uri": "https://localhost:8080/"
        },
        "outputId": "7297b855-6a01-4cb2-d49d-09f767fe3461",
        "id": "euEeh8eCeUFw"
      },
      "outputs": [
        {
          "output_type": "stream",
          "name": "stdout",
          "text": [
            "DistilBERT accuracy FNDataset: 0.8639582991600037\n"
          ]
        }
      ],
      "source": [
        "print(f'DistilBERT accuracy FNDataset: {score[5]}')"
      ]
    },
    {
      "cell_type": "code",
      "source": [
        "DistilBERT_test_predict=model.predict([test_input_ids, test_attention_masks], verbose=1)"
      ],
      "metadata": {
        "colab": {
          "base_uri": "https://localhost:8080/"
        },
        "outputId": "f4495d62-659e-4767-b028-4b84e4c875ac",
        "id": "iND7jm_EeUFw"
      },
      "execution_count": 63,
      "outputs": [
        {
          "output_type": "stream",
          "name": "stdout",
          "text": [
            "1404/1404 [==============================] - 93s 67ms/step\n"
          ]
        }
      ]
    },
    {
      "cell_type": "code",
      "source": [
        "# np.save('/content/drive/MyDrive/Predict/DistilBERT_test_predict.npy', DistilBERT_test_predict)"
      ],
      "metadata": {
        "id": "cLZVeQFvgUW0"
      },
      "execution_count": 64,
      "outputs": []
    },
    {
      "cell_type": "markdown",
      "metadata": {
        "id": "KbbkwkOXI_d-"
      },
      "source": [
        "#### Trained Classifier"
      ]
    },
    {
      "cell_type": "code",
      "execution_count": 65,
      "metadata": {
        "id": "hr5_P5jTI_d-"
      },
      "outputs": [],
      "source": [
        "model = load_model('/content/drive/MyDrive/Models/FINAL (BERT, DISTILBERT)/DISTILBERT_freezed.h5', custom_objects={\"TFDistilBertModel\": TFDistilBertModel})"
      ]
    },
    {
      "cell_type": "code",
      "source": [
        "test_input_ids, test_attention_masks = bert_encode(X_test, 60)"
      ],
      "metadata": {
        "id": "EmF0pLcM4b6l"
      },
      "execution_count": 66,
      "outputs": []
    },
    {
      "cell_type": "code",
      "execution_count": 67,
      "metadata": {
        "colab": {
          "base_uri": "https://localhost:8080/"
        },
        "id": "EYUruTm1I_d_",
        "outputId": "355337d1-1a8c-40a0-97ca-e2a07da19805"
      },
      "outputs": [
        {
          "output_type": "stream",
          "name": "stdout",
          "text": [
            "153/153 [==============================] - 13s 68ms/step - loss: 0.0527 - tp: 2378.0000 - fp: 34.0000 - tn: 2430.0000 - fn: 50.0000 - accuracy: 0.9828 - precision: 0.9859 - recall: 0.9794 - auc: 0.9972\n"
          ]
        }
      ],
      "source": [
        "score = model.evaluate([test_input_ids, test_attention_masks], Y_test, verbose=1) "
      ]
    },
    {
      "cell_type": "code",
      "execution_count": 68,
      "metadata": {
        "colab": {
          "base_uri": "https://localhost:8080/"
        },
        "id": "Ssy3KTD2I_d_",
        "outputId": "d5696c21-f348-46b4-c9d3-1c261f07d0e3"
      },
      "outputs": [
        {
          "output_type": "stream",
          "name": "stdout",
          "text": [
            "DistilBERT accuracy: 0.9828290939331055\n"
          ]
        }
      ],
      "source": [
        "print(f'DistilBERT accuracy: {score[5]}')"
      ]
    },
    {
      "cell_type": "code",
      "execution_count": 69,
      "metadata": {
        "colab": {
          "base_uri": "https://localhost:8080/"
        },
        "id": "35TbWyYnI_d_",
        "outputId": "4670c484-a16d-4b1d-9dbe-3c826f3b0b9b"
      },
      "outputs": [
        {
          "output_type": "stream",
          "name": "stdout",
          "text": [
            "153/153 [==============================] - 12s 67ms/step\n"
          ]
        }
      ],
      "source": [
        "DistilBERT_freezed_predict=model.predict([test_input_ids, test_attention_masks], verbose=1)"
      ]
    },
    {
      "cell_type": "code",
      "source": [
        "# np.save('/content/drive/MyDrive/Predict/DistilBERT_freezed_predict.npy', DistilBERT_freezed_predict)"
      ],
      "metadata": {
        "id": "t7X77JDkgYUE"
      },
      "execution_count": 70,
      "outputs": []
    },
    {
      "cell_type": "markdown",
      "source": [
        "**Testing**"
      ],
      "metadata": {
        "id": "TC5TSaMieeEI"
      }
    },
    {
      "cell_type": "code",
      "source": [
        "test_input_ids, test_attention_masks = bert_encode(x_test, 60)"
      ],
      "metadata": {
        "id": "6Mc94MJY4c7h"
      },
      "execution_count": 71,
      "outputs": []
    },
    {
      "cell_type": "code",
      "execution_count": 72,
      "metadata": {
        "colab": {
          "base_uri": "https://localhost:8080/"
        },
        "id": "98x7e-6pegCm",
        "outputId": "f1eb5611-6648-413d-b327-c1ec9a1768f1"
      },
      "outputs": [
        {
          "output_type": "stream",
          "name": "stdout",
          "text": [
            "1404/1404 [==============================] - 98s 70ms/step - loss: 0.6945 - tp: 22652.0000 - fp: 5822.0000 - tn: 15595.0000 - fn: 829.0000 - accuracy: 0.8519 - precision: 0.7955 - recall: 0.9647 - auc: 0.9178\n"
          ]
        }
      ],
      "source": [
        "score = model.evaluate([test_input_ids, test_attention_masks], y_test, verbose=1) "
      ]
    },
    {
      "cell_type": "code",
      "execution_count": 73,
      "metadata": {
        "colab": {
          "base_uri": "https://localhost:8080/"
        },
        "outputId": "fcaa23a7-ac23-4274-c56f-e013e57b96a7",
        "id": "pJQ-xo9WegCm"
      },
      "outputs": [
        {
          "output_type": "stream",
          "name": "stdout",
          "text": [
            "DistilBERT accuracy FNDataset: 0.851864218711853\n"
          ]
        }
      ],
      "source": [
        "print(f'DistilBERT accuracy FNDataset: {score[5]}')"
      ]
    },
    {
      "cell_type": "code",
      "source": [
        "DistilBERT_freezed_test_predict=model.predict([test_input_ids, test_attention_masks], verbose=1)"
      ],
      "metadata": {
        "colab": {
          "base_uri": "https://localhost:8080/"
        },
        "outputId": "1a26dac3-0fb8-4800-eff0-58b49862ee4b",
        "id": "bVoUYpHmegCm"
      },
      "execution_count": 74,
      "outputs": [
        {
          "output_type": "stream",
          "name": "stdout",
          "text": [
            "1404/1404 [==============================] - 93s 66ms/step\n"
          ]
        }
      ]
    },
    {
      "cell_type": "code",
      "source": [
        "# np.save('/content/drive/MyDrive/Predict/DistilBERT_freezed_test_predict.npy', DistilBERT_freezed_test_predict)"
      ],
      "metadata": {
        "id": "vPb9vVwKgcGC"
      },
      "execution_count": 75,
      "outputs": []
    },
    {
      "cell_type": "markdown",
      "source": [
        "### RoBERTa"
      ],
      "metadata": {
        "id": "1g0GTJsQOOW6"
      }
    },
    {
      "cell_type": "markdown",
      "source": [
        "#### Fine-tuned Model"
      ],
      "metadata": {
        "id": "omzgU9l3Hdhh"
      }
    },
    {
      "cell_type": "code",
      "execution_count": 76,
      "metadata": {
        "id": "WeGqvWmjK0jv"
      },
      "outputs": [],
      "source": [
        "from transformers import RobertaTokenizer"
      ]
    },
    {
      "cell_type": "code",
      "execution_count": 77,
      "metadata": {
        "id": "KMHlgwJEK0jw"
      },
      "outputs": [],
      "source": [
        "tokenizer = RobertaTokenizer.from_pretrained('roberta-base')"
      ]
    },
    {
      "cell_type": "code",
      "execution_count": 78,
      "metadata": {
        "id": "-ODY-d9CK0jw"
      },
      "outputs": [],
      "source": [
        "from transformers import TFRobertaModel"
      ]
    },
    {
      "cell_type": "code",
      "execution_count": 79,
      "metadata": {
        "colab": {
          "base_uri": "https://localhost:8080/"
        },
        "id": "x5gRpis5K0jw",
        "outputId": "073396a9-3ce0-4bc9-f526-18ff3aaf93ca"
      },
      "outputs": [
        {
          "output_type": "stream",
          "name": "stderr",
          "text": [
            "Truncation was not explicitly activated but `max_length` is provided a specific value, please use `truncation=True` to explicitly truncate examples to max length. Defaulting to 'longest_first' truncation strategy. If you encode pairs of sequences (GLUE-style) with the tokenizer you can select this strategy more precisely by providing a specific strategy to `truncation`.\n",
            "/usr/local/lib/python3.10/dist-packages/transformers/tokenization_utils_base.py:2364: FutureWarning: The `pad_to_max_length` argument is deprecated and will be removed in a future version, use `padding=True` or `padding='longest'` to pad to the longest sequence in the batch, or use `padding='max_length'` to pad to a max length. In this case, you can give a specific length with `max_length` (e.g. `max_length=45`) or leave max_length to None to pad to the maximal input size of the model (e.g. 512 for Bert).\n",
            "  warnings.warn(\n"
          ]
        }
      ],
      "source": [
        "X_train, X_test, Y_train, Y_test = train_test_split(X, Y, test_size = 0.2, stratify=Y, random_state=2)\n",
        "\n",
        "train_input_ids, train_attention_masks = bert_encode(X_train, 60)"
      ]
    },
    {
      "cell_type": "code",
      "execution_count": 80,
      "metadata": {
        "id": "2dD-AHPSK0jx"
      },
      "outputs": [],
      "source": [
        "model = load_model('/content/drive/MyDrive/Models/ROBERTA.h5', custom_objects={\"TFRobertaModel\": TFRobertaModel})"
      ]
    },
    {
      "cell_type": "code",
      "execution_count": 81,
      "metadata": {
        "id": "oaasZEdAK0jx"
      },
      "outputs": [],
      "source": [
        "test_input_ids, test_attention_masks = bert_encode(X_test, 60)"
      ]
    },
    {
      "cell_type": "code",
      "execution_count": 82,
      "metadata": {
        "colab": {
          "base_uri": "https://localhost:8080/"
        },
        "id": "JCZYqjJhK0jx",
        "outputId": "30a3e6ab-c850-42fc-cb7b-23008eed643b"
      },
      "outputs": [
        {
          "output_type": "stream",
          "name": "stdout",
          "text": [
            "153/153 [==============================] - 23s 131ms/step - loss: 0.0528 - tp: 2396.0000 - fp: 49.0000 - tn: 2415.0000 - fn: 32.0000 - accuracy: 0.9834 - precision: 0.9800 - recall: 0.9868 - auc: 0.9972\n"
          ]
        }
      ],
      "source": [
        "score = model.evaluate([test_input_ids, test_attention_masks], Y_test, verbose=1) "
      ]
    },
    {
      "cell_type": "code",
      "execution_count": 83,
      "metadata": {
        "colab": {
          "base_uri": "https://localhost:8080/"
        },
        "id": "LzteULdTK0jx",
        "outputId": "d4ba437f-7e38-4bef-82ae-ab712ebc1b57"
      },
      "outputs": [
        {
          "output_type": "stream",
          "name": "stdout",
          "text": [
            "RoBERTa accuracy: 0.9834423661231995\n"
          ]
        }
      ],
      "source": [
        "print(f'RoBERTa accuracy: {score[5]}')"
      ]
    },
    {
      "cell_type": "code",
      "execution_count": 84,
      "metadata": {
        "colab": {
          "base_uri": "https://localhost:8080/"
        },
        "id": "3RGIRk7aK0jy",
        "outputId": "8fde02be-7c72-4137-dce8-052bcce1599a"
      },
      "outputs": [
        {
          "output_type": "stream",
          "name": "stdout",
          "text": [
            "153/153 [==============================] - 24s 130ms/step\n"
          ]
        }
      ],
      "source": [
        "RoBERTa_predict=model.predict([test_input_ids, test_attention_masks], verbose=1)"
      ]
    },
    {
      "cell_type": "code",
      "source": [
        "# np.save('/content/drive/MyDrive/Predict/RoBERTa_predict.npy', RoBERTa_predict)"
      ],
      "metadata": {
        "id": "blZRhU5bggPK"
      },
      "execution_count": 85,
      "outputs": []
    },
    {
      "cell_type": "markdown",
      "source": [
        "**Testing**"
      ],
      "metadata": {
        "id": "oVFiXnNpgheY"
      }
    },
    {
      "cell_type": "code",
      "execution_count": 86,
      "metadata": {
        "id": "4YH-u2T4gkFm"
      },
      "outputs": [],
      "source": [
        "test_input_ids, test_attention_masks = bert_encode(x_test, 60)"
      ]
    },
    {
      "cell_type": "code",
      "execution_count": 87,
      "metadata": {
        "colab": {
          "base_uri": "https://localhost:8080/"
        },
        "outputId": "8ecdb609-eecf-48a1-8c09-9325c44cf138",
        "id": "268D48HCgkFm"
      },
      "outputs": [
        {
          "output_type": "stream",
          "name": "stdout",
          "text": [
            "1404/1404 [==============================] - 185s 132ms/step - loss: 1.3897 - tp: 22941.0000 - fp: 12457.0000 - tn: 8960.0000 - fn: 540.0000 - accuracy: 0.7105 - precision: 0.6481 - recall: 0.9770 - auc: 0.8452\n"
          ]
        }
      ],
      "source": [
        "score = model.evaluate([test_input_ids, test_attention_masks], y_test, verbose=1) "
      ]
    },
    {
      "cell_type": "code",
      "execution_count": 88,
      "metadata": {
        "colab": {
          "base_uri": "https://localhost:8080/"
        },
        "outputId": "e3e3df5d-b0a3-4208-e121-a91a5d4467ff",
        "id": "d2ywChDWgkFn"
      },
      "outputs": [
        {
          "output_type": "stream",
          "name": "stdout",
          "text": [
            "RoBERTa accuracy FNDataset: 0.7105216383934021\n"
          ]
        }
      ],
      "source": [
        "print(f'RoBERTa accuracy FNDataset: {score[5]}')"
      ]
    },
    {
      "cell_type": "code",
      "source": [
        "RoBERTa_test_predict=model.predict([test_input_ids, test_attention_masks], verbose=1)"
      ],
      "metadata": {
        "colab": {
          "base_uri": "https://localhost:8080/"
        },
        "outputId": "7809a08e-c3f1-4bcf-bda1-60c7096ae3c9",
        "id": "mugEJMYngkFn"
      },
      "execution_count": 89,
      "outputs": [
        {
          "output_type": "stream",
          "name": "stdout",
          "text": [
            "1404/1404 [==============================] - 181s 129ms/step\n"
          ]
        }
      ]
    },
    {
      "cell_type": "code",
      "source": [
        "# np.save('/content/drive/MyDrive/Predict/RoBERTa_test_predict.npy', RoBERTa_test_predict)"
      ],
      "metadata": {
        "id": "WRBtuKDRgkI8"
      },
      "execution_count": 90,
      "outputs": []
    },
    {
      "cell_type": "markdown",
      "source": [
        "#### Trained Classifier"
      ],
      "metadata": {
        "id": "iztdrcXUQjwK"
      }
    },
    {
      "cell_type": "code",
      "execution_count": 91,
      "metadata": {
        "id": "RjETX_QWK-OX"
      },
      "outputs": [],
      "source": [
        "model = load_model('/content/drive/MyDrive/Models/ROBERTA_freezed_2.h5', custom_objects={\"TFRobertaModel\": TFRobertaModel})"
      ]
    },
    {
      "cell_type": "code",
      "source": [
        "test_input_ids, test_attention_masks = bert_encode(X_test, 60)"
      ],
      "metadata": {
        "id": "uknOHzk6K-OY"
      },
      "execution_count": 92,
      "outputs": []
    },
    {
      "cell_type": "code",
      "execution_count": 93,
      "metadata": {
        "colab": {
          "base_uri": "https://localhost:8080/"
        },
        "outputId": "6a80b567-7042-4cf6-cb02-24a734b7c9a1",
        "id": "zCOmPgdkK-OY"
      },
      "outputs": [
        {
          "output_type": "stream",
          "name": "stdout",
          "text": [
            "153/153 [==============================] - 23s 131ms/step - loss: 0.0615 - tp: 2403.0000 - fp: 81.0000 - tn: 2383.0000 - fn: 25.0000 - accuracy: 0.9783 - precision: 0.9674 - recall: 0.9897 - auc: 0.9972\n"
          ]
        }
      ],
      "source": [
        "score = model.evaluate([test_input_ids, test_attention_masks], Y_test, verbose=1) "
      ]
    },
    {
      "cell_type": "code",
      "execution_count": 94,
      "metadata": {
        "colab": {
          "base_uri": "https://localhost:8080/"
        },
        "outputId": "b225177e-bed4-4dc3-c760-d04c308a17a9",
        "id": "1QrDebeCK-OZ"
      },
      "outputs": [
        {
          "output_type": "stream",
          "name": "stdout",
          "text": [
            "RoBERTa accuracy: 0.978331983089447\n"
          ]
        }
      ],
      "source": [
        "print(f'RoBERTa accuracy: {score[5]}')"
      ]
    },
    {
      "cell_type": "code",
      "execution_count": 95,
      "metadata": {
        "colab": {
          "base_uri": "https://localhost:8080/"
        },
        "outputId": "0ef53b4e-55e7-44c0-ddc0-2fff50d296d3",
        "id": "Dlx2HYemK-OZ"
      },
      "outputs": [
        {
          "output_type": "stream",
          "name": "stdout",
          "text": [
            "153/153 [==============================] - 24s 130ms/step\n"
          ]
        }
      ],
      "source": [
        "RoBERTa_freezed_predict=model.predict([test_input_ids, test_attention_masks], verbose=1)"
      ]
    },
    {
      "cell_type": "code",
      "source": [
        "# np.save('/content/drive/MyDrive/Predict/RoBERTa_freezed_predict.npy', RoBERTa_freezed_predict)"
      ],
      "metadata": {
        "id": "SleVpFPTgoHd"
      },
      "execution_count": 96,
      "outputs": []
    },
    {
      "cell_type": "markdown",
      "source": [
        "**Testing**"
      ],
      "metadata": {
        "id": "FxzX61C3K-OZ"
      }
    },
    {
      "cell_type": "code",
      "source": [
        "test_input_ids, test_attention_masks = bert_encode(x_test, 60)"
      ],
      "metadata": {
        "id": "at1oeeSiK-Oa"
      },
      "execution_count": 97,
      "outputs": []
    },
    {
      "cell_type": "code",
      "execution_count": 98,
      "metadata": {
        "colab": {
          "base_uri": "https://localhost:8080/"
        },
        "outputId": "7781e62f-591b-4904-a231-37460f3a91f0",
        "id": "ouvVhN3EK-Oa"
      },
      "outputs": [
        {
          "output_type": "stream",
          "name": "stdout",
          "text": [
            "1404/1404 [==============================] - 186s 132ms/step - loss: 1.1422 - tp: 23161.0000 - fp: 11399.0000 - tn: 10018.0000 - fn: 320.0000 - accuracy: 0.7390 - precision: 0.6702 - recall: 0.9864 - auc: 0.8789\n"
          ]
        }
      ],
      "source": [
        "score = model.evaluate([test_input_ids, test_attention_masks], y_test, verbose=1) "
      ]
    },
    {
      "cell_type": "code",
      "execution_count": 99,
      "metadata": {
        "colab": {
          "base_uri": "https://localhost:8080/"
        },
        "outputId": "0eb98fc9-f36f-40ff-aa7f-7ef5ef8ee8f0",
        "id": "CZ_D3sS-K-Oa"
      },
      "outputs": [
        {
          "output_type": "stream",
          "name": "stdout",
          "text": [
            "RoBERTa accuracy FNDataset: 0.7389861345291138\n"
          ]
        }
      ],
      "source": [
        "print(f'RoBERTa accuracy FNDataset: {score[5]}')"
      ]
    },
    {
      "cell_type": "code",
      "source": [
        "RoBERTa_freezed_test_predict=model.predict([test_input_ids, test_attention_masks], verbose=1)"
      ],
      "metadata": {
        "colab": {
          "base_uri": "https://localhost:8080/"
        },
        "outputId": "6b2520d3-383c-4d0c-e4e7-fb29343402c3",
        "id": "M-_2gZmrK-Oa"
      },
      "execution_count": 100,
      "outputs": [
        {
          "output_type": "stream",
          "name": "stdout",
          "text": [
            "1404/1404 [==============================] - 181s 129ms/step\n"
          ]
        }
      ]
    },
    {
      "cell_type": "code",
      "source": [
        "# np.save('/content/drive/MyDrive/Predict/RoBERTa_freezed_test_predict.npy', RoBERTa_freezed_test_predict)"
      ],
      "metadata": {
        "id": "YyNys186grSC"
      },
      "execution_count": 101,
      "outputs": []
    },
    {
      "cell_type": "markdown",
      "source": [
        "### ALBERT"
      ],
      "metadata": {
        "id": "2-9TILy8OTI6"
      }
    },
    {
      "cell_type": "markdown",
      "source": [
        "#### Fine-tuned Model"
      ],
      "metadata": {
        "id": "xLcMzvvMHh9K"
      }
    },
    {
      "cell_type": "code",
      "execution_count": 102,
      "metadata": {
        "id": "shV14MP7LrDN"
      },
      "outputs": [],
      "source": [
        "from transformers import AlbertTokenizer"
      ]
    },
    {
      "cell_type": "code",
      "execution_count": 103,
      "metadata": {
        "id": "BGoxbnagLrDV"
      },
      "outputs": [],
      "source": [
        "tokenizer = AlbertTokenizer.from_pretrained('albert-base-v2')"
      ]
    },
    {
      "cell_type": "code",
      "execution_count": 104,
      "metadata": {
        "id": "M9eEiEDyLrDW"
      },
      "outputs": [],
      "source": [
        "from transformers import TFAlbertModel"
      ]
    },
    {
      "cell_type": "code",
      "execution_count": 105,
      "metadata": {
        "colab": {
          "base_uri": "https://localhost:8080/"
        },
        "id": "2i-mAdqRLrDW",
        "outputId": "7887ea57-fed5-4e0d-e06e-cbb7087d96ab"
      },
      "outputs": [
        {
          "output_type": "stream",
          "name": "stderr",
          "text": [
            "Truncation was not explicitly activated but `max_length` is provided a specific value, please use `truncation=True` to explicitly truncate examples to max length. Defaulting to 'longest_first' truncation strategy. If you encode pairs of sequences (GLUE-style) with the tokenizer you can select this strategy more precisely by providing a specific strategy to `truncation`.\n",
            "/usr/local/lib/python3.10/dist-packages/transformers/tokenization_utils_base.py:2364: FutureWarning: The `pad_to_max_length` argument is deprecated and will be removed in a future version, use `padding=True` or `padding='longest'` to pad to the longest sequence in the batch, or use `padding='max_length'` to pad to a max length. In this case, you can give a specific length with `max_length` (e.g. `max_length=45`) or leave max_length to None to pad to the maximal input size of the model (e.g. 512 for Bert).\n",
            "  warnings.warn(\n"
          ]
        }
      ],
      "source": [
        "X_train, X_test, Y_train, Y_test = train_test_split(X, Y, test_size = 0.2, stratify=Y, random_state=2)\n",
        "\n",
        "train_input_ids, train_attention_masks = bert_encode(X_train, 60)"
      ]
    },
    {
      "cell_type": "code",
      "execution_count": 106,
      "metadata": {
        "id": "3QjNtJKgLrDW"
      },
      "outputs": [],
      "source": [
        "model = load_model('/content/drive/MyDrive/Models/ALBERT.h5', custom_objects={\"TFAlbertModel\": TFAlbertModel})"
      ]
    },
    {
      "cell_type": "code",
      "execution_count": 107,
      "metadata": {
        "id": "f5v8LYphLrDW"
      },
      "outputs": [],
      "source": [
        "test_input_ids, test_attention_masks = bert_encode(X_test, 60)"
      ]
    },
    {
      "cell_type": "code",
      "execution_count": 108,
      "metadata": {
        "colab": {
          "base_uri": "https://localhost:8080/"
        },
        "id": "HFO6mUdnLrDX",
        "outputId": "35f85262-077a-4d91-87ac-add97cf2b322"
      },
      "outputs": [
        {
          "output_type": "stream",
          "name": "stdout",
          "text": [
            "153/153 [==============================] - 25s 142ms/step - loss: 0.0682 - tp: 2396.0000 - fp: 85.0000 - tn: 2379.0000 - fn: 32.0000 - accuracy: 0.9761 - precision: 0.9657 - recall: 0.9868 - auc: 0.9966\n"
          ]
        }
      ],
      "source": [
        "score = model.evaluate([test_input_ids, test_attention_masks], Y_test, verbose=1) "
      ]
    },
    {
      "cell_type": "code",
      "execution_count": 109,
      "metadata": {
        "colab": {
          "base_uri": "https://localhost:8080/"
        },
        "id": "7ka6fzfiLrDX",
        "outputId": "3b41cd72-5980-4872-a658-4ffe5c4e0df6"
      },
      "outputs": [
        {
          "output_type": "stream",
          "name": "stdout",
          "text": [
            "ALBERT accuracy: 0.9760833978652954\n"
          ]
        }
      ],
      "source": [
        "print(f'ALBERT accuracy: {score[5]}')"
      ]
    },
    {
      "cell_type": "code",
      "execution_count": 110,
      "metadata": {
        "colab": {
          "base_uri": "https://localhost:8080/"
        },
        "id": "pTu7moDhLrDX",
        "outputId": "38052ed4-b16a-46ea-c1a1-87c93573f1d9"
      },
      "outputs": [
        {
          "output_type": "stream",
          "name": "stdout",
          "text": [
            "153/153 [==============================] - 26s 143ms/step\n"
          ]
        }
      ],
      "source": [
        "ALBERT_predict=model.predict([test_input_ids, test_attention_masks], verbose=1)"
      ]
    },
    {
      "cell_type": "code",
      "source": [
        "# np.save('/content/drive/MyDrive/Predict/ALBERT_predict.npy', ALBERT_predict)"
      ],
      "metadata": {
        "id": "9tJWCDcYgwYO"
      },
      "execution_count": 111,
      "outputs": []
    },
    {
      "cell_type": "markdown",
      "source": [
        "**Testing**"
      ],
      "metadata": {
        "id": "1H8-UeGHhLcu"
      }
    },
    {
      "cell_type": "code",
      "execution_count": 112,
      "metadata": {
        "id": "dqVa7e7ehOdL"
      },
      "outputs": [],
      "source": [
        "test_input_ids, test_attention_masks = bert_encode(x_test, 60)"
      ]
    },
    {
      "cell_type": "code",
      "execution_count": 113,
      "metadata": {
        "colab": {
          "base_uri": "https://localhost:8080/"
        },
        "outputId": "e6c31a6b-d5b0-45c3-9280-c5cb3d27d902",
        "id": "peUVxihmhOdV"
      },
      "outputs": [
        {
          "output_type": "stream",
          "name": "stdout",
          "text": [
            "1404/1404 [==============================] - 201s 143ms/step - loss: 0.8737 - tp: 22788.0000 - fp: 8668.0000 - tn: 12749.0000 - fn: 693.0000 - accuracy: 0.7915 - precision: 0.7244 - recall: 0.9705 - auc: 0.8842\n"
          ]
        }
      ],
      "source": [
        "score = model.evaluate([test_input_ids, test_attention_masks], y_test, verbose=1) "
      ]
    },
    {
      "cell_type": "code",
      "execution_count": 114,
      "metadata": {
        "colab": {
          "base_uri": "https://localhost:8080/"
        },
        "outputId": "de61e27d-79d5-4688-fb83-33b0f8e2d6a8",
        "id": "I80zbGiPhOdV"
      },
      "outputs": [
        {
          "output_type": "stream",
          "name": "stdout",
          "text": [
            "ALBERT accuracy FNDataset: 0.7915052175521851\n"
          ]
        }
      ],
      "source": [
        "print(f'ALBERT accuracy FNDataset: {score[5]}')"
      ]
    },
    {
      "cell_type": "code",
      "source": [
        "ALBERT_test_predict=model.predict([test_input_ids, test_attention_masks], verbose=1)"
      ],
      "metadata": {
        "colab": {
          "base_uri": "https://localhost:8080/"
        },
        "outputId": "4f6c4b46-fb16-469c-a69a-06a2348a072e",
        "id": "59wkm3gAhOdW"
      },
      "execution_count": 115,
      "outputs": [
        {
          "output_type": "stream",
          "name": "stdout",
          "text": [
            "1404/1404 [==============================] - 196s 140ms/step\n"
          ]
        }
      ]
    },
    {
      "cell_type": "code",
      "source": [
        "# np.save('/content/drive/MyDrive/Predict/ALBERT_test_predict.npy', ALBERT_test_predict)"
      ],
      "metadata": {
        "id": "6JEBclcjgz3R"
      },
      "execution_count": 116,
      "outputs": []
    },
    {
      "cell_type": "markdown",
      "source": [
        "#### Trained Classifier\n"
      ],
      "metadata": {
        "id": "S5iVgHUsQmRj"
      }
    },
    {
      "cell_type": "code",
      "execution_count": 117,
      "metadata": {
        "id": "NU8pwuI1LrDX"
      },
      "outputs": [],
      "source": [
        "model = load_model('/content/drive/MyDrive/Models/ALBERT_freezed.h5', custom_objects={\"TFAlbertModel\": TFAlbertModel})"
      ]
    },
    {
      "cell_type": "code",
      "source": [
        "test_input_ids, test_attention_masks = bert_encode(X_test, 60)"
      ],
      "metadata": {
        "id": "oPA4dJqw4nKx"
      },
      "execution_count": 118,
      "outputs": []
    },
    {
      "cell_type": "code",
      "execution_count": 119,
      "metadata": {
        "colab": {
          "base_uri": "https://localhost:8080/"
        },
        "id": "cbakrkWtLrDY",
        "outputId": "f7372cfb-b8d6-43d3-bf74-15c0fe0ee11a"
      },
      "outputs": [
        {
          "output_type": "stream",
          "name": "stdout",
          "text": [
            "153/153 [==============================] - 25s 142ms/step - loss: 0.0693 - tp: 2364.0000 - fp: 60.0000 - tn: 2404.0000 - fn: 64.0000 - accuracy: 0.9747 - precision: 0.9752 - recall: 0.9736 - auc: 0.9968\n"
          ]
        }
      ],
      "source": [
        "score = model.evaluate([test_input_ids, test_attention_masks], Y_test, verbose=1) "
      ]
    },
    {
      "cell_type": "code",
      "execution_count": 120,
      "metadata": {
        "colab": {
          "base_uri": "https://localhost:8080/"
        },
        "id": "XIAG8lZ8LrDY",
        "outputId": "4dd665a2-025f-4245-fb87-791a9906362e"
      },
      "outputs": [
        {
          "output_type": "stream",
          "name": "stdout",
          "text": [
            "ALBERT accuracy: 0.9746524691581726\n"
          ]
        }
      ],
      "source": [
        "print(f'ALBERT accuracy: {score[5]}')"
      ]
    },
    {
      "cell_type": "code",
      "execution_count": 121,
      "metadata": {
        "colab": {
          "base_uri": "https://localhost:8080/"
        },
        "id": "T31C5zGSLrDY",
        "outputId": "ea4a87c8-d45b-46cc-d0a7-ebf55faaba08"
      },
      "outputs": [
        {
          "output_type": "stream",
          "name": "stdout",
          "text": [
            "153/153 [==============================] - 24s 142ms/step\n"
          ]
        }
      ],
      "source": [
        "ALBERT_freezed_predict=model.predict([test_input_ids, test_attention_masks], verbose=1)"
      ]
    },
    {
      "cell_type": "code",
      "source": [
        "# np.save('/content/drive/MyDrive/Predict/ALBERT_freezed_predict.npy', ALBERT_freezed_predict)"
      ],
      "metadata": {
        "id": "bghjnDUTg2_z"
      },
      "execution_count": 122,
      "outputs": []
    },
    {
      "cell_type": "markdown",
      "source": [
        "**Testing**"
      ],
      "metadata": {
        "id": "Mu7cNiejhkwV"
      }
    },
    {
      "cell_type": "code",
      "execution_count": 123,
      "metadata": {
        "id": "S22IZ3g4hnRu"
      },
      "outputs": [],
      "source": [
        "test_input_ids, test_attention_masks = bert_encode(x_test, 60)"
      ]
    },
    {
      "cell_type": "code",
      "execution_count": 124,
      "metadata": {
        "colab": {
          "base_uri": "https://localhost:8080/"
        },
        "outputId": "bd3a20e2-06be-4712-f4e3-8737230e5145",
        "id": "gW1b7yPkhnR2"
      },
      "outputs": [
        {
          "output_type": "stream",
          "name": "stdout",
          "text": [
            "1404/1404 [==============================] - 201s 143ms/step - loss: 0.5902 - tp: 22721.0000 - fp: 8810.0000 - tn: 12607.0000 - fn: 760.0000 - accuracy: 0.7869 - precision: 0.7206 - recall: 0.9676 - auc: 0.9421\n"
          ]
        }
      ],
      "source": [
        "score = model.evaluate([test_input_ids, test_attention_masks], y_test, verbose=1) "
      ]
    },
    {
      "cell_type": "code",
      "execution_count": 125,
      "metadata": {
        "colab": {
          "base_uri": "https://localhost:8080/"
        },
        "outputId": "927dd3fa-687c-4683-b3a5-08bc6521f034",
        "id": "Cbut4xFYhnR3"
      },
      "outputs": [
        {
          "output_type": "stream",
          "name": "stdout",
          "text": [
            "ALBERT accuracy FNDataset: 0.7868502140045166\n"
          ]
        }
      ],
      "source": [
        "print(f'ALBERT accuracy FNDataset: {score[5]}')"
      ]
    },
    {
      "cell_type": "code",
      "source": [
        "ALBERT_freezed_test_predict=model.predict([test_input_ids, test_attention_masks], verbose=1)"
      ],
      "metadata": {
        "colab": {
          "base_uri": "https://localhost:8080/"
        },
        "outputId": "0a8577b8-f1b2-495a-f2fe-9969e30bff82",
        "id": "Z5EcTQzRhnR3"
      },
      "execution_count": 126,
      "outputs": [
        {
          "output_type": "stream",
          "name": "stdout",
          "text": [
            "1404/1404 [==============================] - 197s 140ms/step\n"
          ]
        }
      ]
    },
    {
      "cell_type": "code",
      "source": [
        "# np.save('/content/drive/MyDrive/Predict/ALBERT_freezed_test_predict.npy', ALBERT_freezed_test_predict)"
      ],
      "metadata": {
        "id": "eHZgVAicg6om"
      },
      "execution_count": 127,
      "outputs": []
    },
    {
      "cell_type": "code",
      "source": [
        "BERT_roc_auc = roc_auc_score(Y_test, BERT_predict)\n",
        "BERT_freezed_roc_auc = roc_auc_score(Y_test, BERT_freezed_predict)\n",
        "DistilBERT_roc_auc = roc_auc_score(Y_test, DistilBERT_predict)\n",
        "DistilBERT_freezed_roc_auc = roc_auc_score(Y_test, DistilBERT_freezed_predict)\n",
        "RoBERTa_roc_auc = roc_auc_score(Y_test, RoBERTa_predict)\n",
        "RoBERTa_freezed_roc_auc = roc_auc_score(Y_test, RoBERTa_freezed_predict)\n",
        "ALBERT_roc_auc = roc_auc_score(Y_test, ALBERT_predict)\n",
        "ALBERT_freezed_roc_auc = roc_auc_score(Y_test, ALBERT_freezed_predict)"
      ],
      "metadata": {
        "id": "F48JZzGWRZTb"
      },
      "execution_count": 128,
      "outputs": []
    },
    {
      "cell_type": "code",
      "source": [
        "from sklearn.metrics import roc_curve"
      ],
      "metadata": {
        "id": "9wVzXMpSS2GN"
      },
      "execution_count": 129,
      "outputs": []
    },
    {
      "cell_type": "code",
      "source": [
        "BERT_fpr, BERT_tpr, _ = roc_curve(Y_test, BERT_predict)\n",
        "BERT_freezed_fpr, BERT_freezed_tpr, _ = roc_curve(Y_test, BERT_freezed_predict)\n",
        "DistilBERT_fpr, DistilBERT_tpr, _ = roc_curve(Y_test, DistilBERT_predict)\n",
        "DistilBERT_freezed_fpr, DistilBERT_freezed_tpr, _ = roc_curve(Y_test, DistilBERT_freezed_predict)\n",
        "RoBERTa_fpr, RoBERTa_tpr, _ = roc_curve(Y_test, RoBERTa_predict)\n",
        "RoBERTa_freezed_fpr, RoBERTa_freezed_tpr, _ = roc_curve(Y_test, RoBERTa_freezed_predict)\n",
        "ALBERT_fpr, ALBERT_tpr, _ = roc_curve(Y_test, ALBERT_predict)\n",
        "ALBERT_freezed_fpr, ALBERT_freezed_tpr, _ = roc_curve(Y_test, ALBERT_freezed_predict)"
      ],
      "metadata": {
        "id": "X3LBAoDuRZYO"
      },
      "execution_count": 130,
      "outputs": []
    },
    {
      "cell_type": "markdown",
      "source": [
        "### Тестовые данные"
      ],
      "metadata": {
        "id": "q_Js4sTuOff9"
      }
    },
    {
      "cell_type": "code",
      "source": [
        "plt.figure(figsize=(6,5))\n",
        "plt.plot([0, 1], [0, 1], '--', color='gray')\n",
        "plt.plot(BERT_fpr, BERT_tpr, linewidth=1, color='blue', label='ROC кривая для BERT (area = %0.3f)' % BERT_roc_auc)\n",
        "plt.plot(DistilBERT_fpr, DistilBERT_tpr, linewidth=1, color='green', label='ROC кривая для DistilBERT (area = %0.3f)' % DistilBERT_roc_auc)\n",
        "plt.plot(RoBERTa_fpr, RoBERTa_tpr, linewidth=1, color='darkorange', label='ROC кривая для RoBERTa (area = %0.3f)' % RoBERTa_roc_auc)\n",
        "plt.plot(ALBERT_fpr, ALBERT_tpr, linewidth=1, color='red', label='ROC кривая для ALBERT (area = %0.3f)' % ALBERT_roc_auc)\n",
        "plt.xlim([0.0, 0.3])\n",
        "plt.ylim([0.65, 1.05])\n",
        "plt.title('Тонкая настройка')\n",
        "plt.xlabel('False Positive Rate')\n",
        "plt.ylabel('True Positive Rate')\n",
        "plt.legend(loc=\"lower right\")\n",
        "plt.show()"
      ],
      "metadata": {
        "colab": {
          "base_uri": "https://localhost:8080/",
          "height": 487
        },
        "id": "jMLXrEyNTtj8",
        "outputId": "ac8e6bf4-2e01-4c6d-be12-6b9a4a8ec88e"
      },
      "execution_count": 131,
      "outputs": [
        {
          "output_type": "display_data",
          "data": {
            "text/plain": [
              "<Figure size 600x500 with 1 Axes>"
            ],
            "image/png": "[encoded data removed]"
          },
          "metadata": {}
        }
      ]
    },
    {
      "cell_type": "code",
      "source": [
        "plt.figure(figsize=(6,5))\n",
        "plt.plot([0, 1], [0, 1], '--', color='gray')\n",
        "plt.plot(BERT_freezed_fpr, BERT_freezed_tpr, linewidth=1, color='blue', label='ROC кривая для BERT (area = %0.3f)' % BERT_freezed_roc_auc)\n",
        "plt.plot(DistilBERT_freezed_fpr, DistilBERT_freezed_tpr, linewidth=1, color='green', label='ROC кривая для DistilBERT (area = %0.3f)' % DistilBERT_freezed_roc_auc)\n",
        "plt.plot(RoBERTa_freezed_fpr, RoBERTa_freezed_tpr, linewidth=1, color='darkorange', label='ROC кривая для RoBERTa (area = %0.3f)' % RoBERTa_freezed_roc_auc)\n",
        "plt.plot(ALBERT_freezed_fpr, ALBERT_freezed_tpr, linewidth=1, color='red', label='ROC кривая для ALBERT (area = %0.3f)' % ALBERT_freezed_roc_auc)\n",
        "plt.xlim([0.0, 0.3])\n",
        "plt.ylim([0.65, 1.05])\n",
        "plt.title('Обучение классификатора')\n",
        "plt.xlabel('False Positive Rate')\n",
        "plt.ylabel('True Positive Rate')\n",
        "plt.legend(loc=\"lower right\")\n",
        "plt.show()"
      ],
      "metadata": {
        "colab": {
          "base_uri": "https://localhost:8080/",
          "height": 487
        },
        "id": "A6Qtu0eSU8YG",
        "outputId": "726fa724-129b-4207-da4f-b5c9b0285b2f"
      },
      "execution_count": 132,
      "outputs": [
        {
          "output_type": "display_data",
          "data": {
            "text/plain": [
              "<Figure size 600x500 with 1 Axes>"
            ],
            "image/png": "[encoded data removed]"
          },
          "metadata": {}
        }
      ]
    },
    {
      "cell_type": "code",
      "source": [
        "BERT_test_fpr, BERT_test_tpr, _ = roc_curve(y_test, BERT_test_predict)\n",
        "BERT_freezed_test_fpr, BERT_freezed_test_tpr, _ = roc_curve(y_test, BERT_freezed_test_predict)\n",
        "DistilBERT_test_fpr, DistilBERT_test_tpr, _ = roc_curve(y_test, DistilBERT_test_predict)\n",
        "DistilBERT_freezed_test_fpr, DistilBERT_freezed_test_tpr, _ = roc_curve(y_test, DistilBERT_freezed_test_predict)\n",
        "RoBERTa_test_fpr, RoBERTa_test_tpr, _ = roc_curve(y_test, RoBERTa_test_predict)\n",
        "RoBERTa_freezed_test_fpr, RoBERTa_freezed_test_tpr, _ = roc_curve(y_test, RoBERTa_freezed_test_predict)\n",
        "ALBERT_test_fpr, ALBERT_test_tpr, _ = roc_curve(y_test, ALBERT_test_predict)\n",
        "ALBERT_freezed_test_fpr, ALBERT_freezed_test_tpr, _ = roc_curve(y_test, ALBERT_freezed_test_predict)"
      ],
      "metadata": {
        "id": "HvxEFHMXpxZR"
      },
      "execution_count": 133,
      "outputs": []
    },
    {
      "cell_type": "code",
      "source": [
        "# np.save('/content/drive/MyDrive/NPY/BERT/BERT_test_fpr.npy', BERT_test_fpr)\n",
        "# np.save('/content/drive/MyDrive/NPY/BERT/BERT_test_tpr.npy', BERT_test_tpr)\n",
        "# np.save('/content/drive/MyDrive/NPY/BERT/BERT_freezed_test_fpr.npy', BERT_freezed_test_fpr)\n",
        "# np.save('/content/drive/MyDrive/NPY/BERT/BERT_freezed_test_tpr.npy', BERT_freezed_test_tpr)\n",
        "\n",
        "# np.save('/content/drive/MyDrive/NPY/DistilBERT/DistilBERT_test_fpr.npy', DistilBERT_test_fpr)\n",
        "# np.save('/content/drive/MyDrive/NPY/DistilBERT/DistilBERT_test_tpr.npy', DistilBERT_test_tpr)\n",
        "# np.save('/content/drive/MyDrive/NPY/DistilBERT/DistilBERT_freezed_test_fpr.npy', DistilBERT_freezed_test_fpr)\n",
        "# np.save('/content/drive/MyDrive/NPY/DistilBERT/DistilBERT_freezed_test_tpr.npy', DistilBERT_freezed_test_tpr)\n",
        "\n",
        "# np.save('/content/drive/MyDrive/NPY/RoBERTa/RoBERTa_test_fpr.npy', RoBERTa_test_fpr)\n",
        "# np.save('/content/drive/MyDrive/NPY/RoBERTa/RoBERTa_test_tpr.npy', RoBERTa_test_tpr)\n",
        "# np.save('/content/drive/MyDrive/NPY/RoBERTa/RoBERTa_freezed_test_fpr.npy', RoBERTa_freezed_test_fpr)\n",
        "# np.save('/content/drive/MyDrive/NPY/RoBERTa/RoBERTa_freezed_test_tpr.npy', RoBERTa_freezed_test_tpr)\n",
        "\n",
        "# np.save('/content/drive/MyDrive/NPY/ALBERT/ALBERT_test_fpr.npy', ALBERT_test_fpr)\n",
        "# np.save('/content/drive/MyDrive/NPY/ALBERT/ALBERT_test_tpr.npy', ALBERT_test_tpr)\n",
        "# np.save('/content/drive/MyDrive/NPY/ALBERT/ALBERT_freezed_test_fpr.npy', ALBERT_freezed_test_fpr)\n",
        "# np.save('/content/drive/MyDrive/NPY/ALBERT/ALBERT_freezed_test_tpr.npy', ALBERT_freezed_test_tpr)"
      ],
      "metadata": {
        "id": "opdb7qUms_tZ"
      },
      "execution_count": 134,
      "outputs": []
    },
    {
      "cell_type": "code",
      "source": [
        "BERT_test_roc_auc = roc_auc_score(y_test, BERT_test_predict)\n",
        "BERT_freezed_test_roc_auc = roc_auc_score(y_test, BERT_freezed_test_predict)\n",
        "DistilBERT_test_roc_auc = roc_auc_score(y_test, DistilBERT_test_predict)\n",
        "DistilBERT_freezed_test_roc_auc = roc_auc_score(y_test, DistilBERT_freezed_test_predict)\n",
        "RoBERTa_test_roc_auc = roc_auc_score(y_test, RoBERTa_test_predict)\n",
        "RoBERTa_freezed_test_roc_auc = roc_auc_score(y_test, RoBERTa_freezed_test_predict)\n",
        "ALBERT_test_roc_auc = roc_auc_score(y_test, ALBERT_test_predict)\n",
        "ALBERT_freezed_test_roc_auc = roc_auc_score(y_test, ALBERT_freezed_test_predict)"
      ],
      "metadata": {
        "id": "HfY9-ph9rVXZ"
      },
      "execution_count": 135,
      "outputs": []
    },
    {
      "cell_type": "markdown",
      "source": [
        "### Другой датасет"
      ],
      "metadata": {
        "id": "vzcYWp4VOi4o"
      }
    },
    {
      "cell_type": "code",
      "source": [
        "plt.figure(figsize=(6,5))\n",
        "plt.plot([0, 1], [0, 1], '--', color='gray')\n",
        "plt.plot(BERT_test_fpr, BERT_test_tpr, linewidth=1, color='blue', label='ROC кривая для BERT (area = %0.3f)' % BERT_test_roc_auc)\n",
        "plt.plot(DistilBERT_test_fpr, DistilBERT_test_tpr, linewidth=1, color='green', label='ROC кривая для DistilBERT (area = %0.3f)' % DistilBERT_test_roc_auc)\n",
        "plt.plot(RoBERTa_test_fpr, RoBERTa_test_tpr, linewidth=1, color='darkorange', label='ROC кривая для RoBERTa (area = %0.3f)' % RoBERTa_test_roc_auc)\n",
        "plt.plot(ALBERT_test_fpr, ALBERT_test_tpr, linewidth=1, color='red', label='ROC кривая для ALBERT (area = %0.3f)' % ALBERT_test_roc_auc)\n",
        "plt.xlim([0.0, 1.0])\n",
        "plt.ylim([0.0, 1.05])\n",
        "plt.title('Тонкая настройка')\n",
        "plt.xlabel('False Positive Rate')\n",
        "plt.ylabel('True Positive Rate')\n",
        "plt.legend(loc=\"lower right\")\n",
        "plt.show()"
      ],
      "metadata": {
        "colab": {
          "base_uri": "https://localhost:8080/",
          "height": 487
        },
        "id": "ekeGeLsMq-YZ",
        "outputId": "e4b81bd2-ec6e-47a4-eddb-2019b11f2f63"
      },
      "execution_count": 136,
      "outputs": [
        {
          "output_type": "display_data",
          "data": {
            "text/plain": [
              "<Figure size 600x500 with 1 Axes>"
            ],
            "image/png": "[encoded data removed]"
          },
          "metadata": {}
        }
      ]
    },
    {
      "cell_type": "code",
      "source": [
        "plt.figure(figsize=(6,5))\n",
        "plt.plot([0, 1], [0, 1], '--', color='gray')\n",
        "plt.plot(BERT_freezed_test_fpr, BERT_freezed_test_tpr, linewidth=1, color='blue', label='ROC кривая для BERT (area = %0.3f)' % BERT_freezed_test_roc_auc)\n",
        "plt.plot(DistilBERT_freezed_test_fpr, DistilBERT_freezed_test_tpr, linewidth=1, color='green', label='ROC кривая для DistilBERT (area = %0.3f)' % DistilBERT_freezed_test_roc_auc)\n",
        "plt.plot(RoBERTa_freezed_test_fpr, RoBERTa_freezed_test_tpr, linewidth=1, color='darkorange', label='ROC кривая для RoBERTa (area = %0.3f)' % RoBERTa_freezed_test_roc_auc)\n",
        "plt.plot(ALBERT_freezed_test_fpr, ALBERT_freezed_test_tpr, linewidth=1, color='red', label='ROC кривая для ALBERT (area = %0.3f)' % ALBERT_freezed_test_roc_auc)\n",
        "plt.xlim([0.0, 1.0])\n",
        "plt.ylim([0.0, 1.05])\n",
        "plt.title('Обучение классификатора')\n",
        "plt.xlabel('False Positive Rate')\n",
        "plt.ylabel('True Positive Rate')\n",
        "plt.legend(loc=\"lower right\")\n",
        "plt.show()"
      ],
      "metadata": {
        "colab": {
          "base_uri": "https://localhost:8080/",
          "height": 487
        },
        "id": "OAhia4PEquoB",
        "outputId": "70d52cd7-ae2a-445e-b120-69f263be5e7c"
      },
      "execution_count": 137,
      "outputs": [
        {
          "output_type": "display_data",
          "data": {
            "text/plain": [
              "<Figure size 600x500 with 1 Axes>"
            ],
            "image/png": "[encoded data removed]"
          },
          "metadata": {}
        }
      ]
    }
  ],
  "metadata": {
    "accelerator": "GPU",
    "colab": {
      "provenance": []
    },
    "gpuClass": "standard",
    "kernelspec": {
      "display_name": "Python 3",
      "name": "python3"
    },
    "language_info": {
      "name": "python"
    }
  },
  "nbformat": 4,
  "nbformat_minor": 0
}